{
 "cells": [
  {
   "cell_type": "code",
   "execution_count": 2,
   "id": "ecd75716-9ba1-4ae6-b687-31472d4d5b78",
   "metadata": {},
   "outputs": [],
   "source": [
    "import os\n",
    "import json\n",
    "import wandb\n",
    "import argparse\n",
    "import itertools\n",
    "import numpy as np\n",
    "from time import gmtime, strftime\n",
    "\n",
    "import soundfile as sf\n",
    "\n",
    "import torch\n",
    "import torchaudio\n",
    "import torch.nn.functional as F\n",
    "from torch.utils.data import DataLoader\n",
    "\n",
    "import sys\n",
    "sys.path.append('../training')\n",
    "sys.path.append('../training/networks/nansypp')\n",
    "\n",
    "from datasets.loader import Dataset\n",
    "from networks.discriminator import Discriminator\n",
    "from nansypp import Nansypp\n",
    "from hyface import Nansy, BShall\n",
    "# import loss_funcs\n",
    "\n",
    "from utils import audio_utils\n",
    "from utils.data_utils import phoneme_inventory, decollate_tensor, combine_fixed_length\n",
    "from utils import utils\n",
    "\n",
    "import IPython.display as ipd"
   ]
  },
  {
   "cell_type": "code",
   "execution_count": null,
   "id": "f837c508-ef81-43de-a33d-dfba6447178d",
   "metadata": {},
   "outputs": [],
   "source": []
  },
  {
   "cell_type": "markdown",
   "id": "c4256f09-33f2-4f40-9c56-6c22aeed88d7",
   "metadata": {},
   "source": [
    "# Setting"
   ]
  },
  {
   "cell_type": "markdown",
   "id": "56714ca5-3d26-407f-8acc-191028a02f7e",
   "metadata": {},
   "source": [
    "## Argument setting"
   ]
  },
  {
   "cell_type": "code",
   "execution_count": 2,
   "id": "6d22ce5c-8601-46a2-8cc4-40dc40f50328",
   "metadata": {},
   "outputs": [],
   "source": [
    "# main_dir = '/home/jaejun/nansy/\n",
    "config_path = '/home/jaejun/temp_jaejun/hyface/230810/logs/config.json'\n",
    "with open(config_path, \"r\") as f:\n",
    "    data = f.read()\n",
    "config = json.loads(data)\n",
    "args = utils.HParams(**config)"
   ]
  },
  {
   "cell_type": "code",
   "execution_count": 3,
   "id": "7110c7b5-e614-4c7e-a653-77e97d4b2c77",
   "metadata": {},
   "outputs": [],
   "source": [
    "args.meta_root = '/home/jaejun/hyface/training'\n",
    "args.base_dir = '/home/jaejun/temp_jaejun/hyface/230810/checkpoints'"
   ]
  },
  {
   "cell_type": "code",
   "execution_count": null,
   "id": "368c5c13-5edf-4f8a-bee5-1f310dab6439",
   "metadata": {},
   "outputs": [],
   "source": []
  },
  {
   "cell_type": "markdown",
   "id": "821d99e9-d8f4-4b57-9557-7f22696bbc66",
   "metadata": {},
   "source": [
    "# Model"
   ]
  },
  {
   "cell_type": "markdown",
   "id": "68e2f921-e1a0-4c64-9e9e-8ab8bd7e0021",
   "metadata": {},
   "source": [
    "## HyFace"
   ]
  },
  {
   "cell_type": "code",
   "execution_count": 5,
   "id": "4f81017f-10fa-436e-a05b-068188d78e83",
   "metadata": {},
   "outputs": [
    {
     "name": "stderr",
     "output_type": "stream",
     "text": [
      "/opt/conda/lib/python3.10/site-packages/torchaudio/transforms/_transforms.py:611: UserWarning: Argument 'onesided' has been deprecated and has no influence on the behavior of this module.\n",
      "  warnings.warn(\n"
     ]
    }
   ],
   "source": [
    "if args.model.generator == \"nansy\":\n",
    "    hyface = Nansy(args)\n",
    "elif args.model.generator == \"bshall\":\n",
    "    hyface = BShall(args)"
   ]
  },
  {
   "cell_type": "code",
   "execution_count": 6,
   "id": "343914e9-bdeb-49c5-9237-2700ac386b7a",
   "metadata": {},
   "outputs": [
    {
     "name": "stdout",
     "output_type": "stream",
     "text": [
      "Loaded checkpoint '/home/jaejun/temp_jaejun/hyface/230810/checkpoints/G_1500.pth' (Epoch 1500)\n"
     ]
    }
   ],
   "source": [
    "index = 1500\n",
    "checkpoint_path = f'/home/jaejun/temp_jaejun/hyface/230810/checkpoints/G_{index}.pth'\n",
    "hyface, _, _, _ = utils.load_checkpoint(checkpoint_path, hyface, None)"
   ]
  },
  {
   "cell_type": "code",
   "execution_count": null,
   "id": "d996c592-dbf1-4b14-aa72-a812d6fd84d9",
   "metadata": {},
   "outputs": [],
   "source": []
  },
  {
   "cell_type": "markdown",
   "id": "3abaabda-18b0-43bc-a8d7-d653cb6e2ce3",
   "metadata": {},
   "source": [
    "## Nansypp (for vocoding)"
   ]
  },
  {
   "cell_type": "code",
   "execution_count": null,
   "id": "a104ce22-90fe-4c25-aa5a-7b382883a83f",
   "metadata": {},
   "outputs": [],
   "source": [
    "# main_dir = '/home/jaejun/nansy/\n",
    "nansy_config_path = '/home/jaejun/temp_jaejun/nansy/revsic_aug/logs/config.json'\n",
    "with open(config_path, \"r\") as f:\n",
    "    data = f.read()\n",
    "config = json.loads(data)\n",
    "nansy_args = utils.HParams(**config)"
   ]
  },
  {
   "cell_type": "code",
   "execution_count": null,
   "id": "a0953f78-8e78-401a-9dd1-69c9b4e963a4",
   "metadata": {},
   "outputs": [],
   "source": [
    "args.meta_root = '/home/jaejun/hyface/training'\n",
    "args.base_dir = '/home/jaejun/temp_jaejun/hyface/230810/checkpoints'"
   ]
  },
  {
   "cell_type": "code",
   "execution_count": null,
   "id": "ef4a7af0-42f9-415b-a17a-a56f65fdad40",
   "metadata": {},
   "outputs": [],
   "source": []
  },
  {
   "cell_type": "code",
   "execution_count": null,
   "id": "aaa11425-9b7d-4640-be1c-f8480b324565",
   "metadata": {},
   "outputs": [],
   "source": []
  }
 ],
 "metadata": {
  "kernelspec": {
   "display_name": "Python 3 (ipykernel)",
   "language": "python",
   "name": "python3"
  },
  "language_info": {
   "codemirror_mode": {
    "name": "ipython",
    "version": 3
   },
   "file_extension": ".py",
   "mimetype": "text/x-python",
   "name": "python",
   "nbconvert_exporter": "python",
   "pygments_lexer": "ipython3",
   "version": "3.10.11"
  }
 },
 "nbformat": 4,
 "nbformat_minor": 5
}
