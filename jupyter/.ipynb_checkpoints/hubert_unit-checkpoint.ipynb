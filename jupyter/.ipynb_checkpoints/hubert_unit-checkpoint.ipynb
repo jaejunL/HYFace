{
 "cells": [
  {
   "cell_type": "code",
   "execution_count": 1,
   "id": "97d6242c-9d92-4927-93f5-7a18e966cbca",
   "metadata": {},
   "outputs": [],
   "source": [
    "import os\n",
    "import sys\n",
    "import numpy as np\n",
    "\n",
    "import torch, torchaudio\n",
    "\n",
    "sys.path.append('../training')\n",
    "from utils import audio_utils, data_utils"
   ]
  },
  {
   "cell_type": "markdown",
   "id": "bbde326a-c44e-4878-ad89-b9a7e7e227da",
   "metadata": {},
   "source": [
    "## Hubert pretrained model"
   ]
  },
  {
   "cell_type": "code",
   "execution_count": 2,
   "id": "d9664a64-d68e-4007-93b0-dd6e9e77054d",
   "metadata": {},
   "outputs": [
    {
     "name": "stderr",
     "output_type": "stream",
     "text": [
      "Using cache found in /root/.cache/torch/hub/bshall_hubert_main\n"
     ]
    }
   ],
   "source": [
    "hubert = torch.hub.load(\"bshall/hubert:main\", \"hubert_soft\", trust_repo=True).cuda()"
   ]
  },
  {
   "cell_type": "code",
   "execution_count": null,
   "id": "dbb0a677-03b8-4e38-9351-43ee06d025b5",
   "metadata": {},
   "outputs": [],
   "source": []
  },
  {
   "cell_type": "markdown",
   "id": "91167196-4558-4773-9512-2b6530b0a45f",
   "metadata": {},
   "source": [
    "## Data setting"
   ]
  },
  {
   "cell_type": "code",
   "execution_count": 49,
   "id": "1b6655aa-94f8-4bca-8891-ab09defe9491",
   "metadata": {},
   "outputs": [
    {
     "name": "stdout",
     "output_type": "stream",
     "text": [
      "107/108 of 392/393 - 1.0%%"
     ]
    }
   ],
   "source": [
    "audio_dir = \"/data1/vctk/modified/wav16_cleaned\"\n",
    "audio_folders = os.listdir(os.path.join(audio_dir))\n",
    "cnt = 0\n",
    "for i, audio_folder in enumerate(audio_folders):\n",
    "    audio_names = os.listdir(os.path.join(audio_dir, audio_folder))\n",
    "    for j, audio_name in enumerate(audio_names):\n",
    "        audio_path = os.path.join(audio_dir, audio_folder, audio_name)\n",
    "        save_path = audio_path.replace(\"wav16_cleaned\", \"hubert\").replace('.wav', '.emb')\n",
    "        os.makedirs(os.path.dirname(save_path), exist_ok=True)\n",
    "        wav, sr = torchaudio.load(audio_path)\n",
    "        assert sr == 16000\n",
    "        wav = wav.unsqueeze(0).cuda()\n",
    "        units = hubert.units(wav)\n",
    "        torch.save(units.cpu(), save_path)\n",
    "        print(f\"\\r{i}/{len(audio_folders)} of {j}/{len(audio_names)} - {np.round((cnt/43342*100),2)}%\", end=\"\")\n",
    "        cnt += 1"
   ]
  },
  {
   "cell_type": "code",
   "execution_count": null,
   "id": "877c0bfa-abfe-450b-a2d7-28e22a0cd429",
   "metadata": {},
   "outputs": [],
   "source": []
  },
  {
   "cell_type": "code",
   "execution_count": null,
   "id": "cd98775f-176f-4b42-af5c-cf68e93543c7",
   "metadata": {},
   "outputs": [],
   "source": []
  },
  {
   "cell_type": "markdown",
   "id": "f0d49336-b139-4207-bc34-53a86447d560",
   "metadata": {},
   "source": [
    "## Temp (vctk filelists making)"
   ]
  },
  {
   "cell_type": "code",
   "execution_count": null,
   "id": "887cea11-6080-4623-8d14-64cd3e0e09bf",
   "metadata": {},
   "outputs": [],
   "source": []
  },
  {
   "cell_type": "code",
   "execution_count": 4,
   "id": "9ca93fb2-41c4-4dd2-b822-3b71615275fb",
   "metadata": {},
   "outputs": [
    {
     "name": "stdout",
     "output_type": "stream",
     "text": [
      "11\n"
     ]
    }
   ],
   "source": [
    "test_speakers = ['p261', 'p225', 'p294', 'p347', 'p238', 'p234', 'p248', 'p335', 'p245', 'p326', 'p302']\n",
    "print(len(test_speakers))"
   ]
  },
  {
   "cell_type": "code",
   "execution_count": 10,
   "id": "89a04a5d-57cf-4043-a408-4681f3d95fc2",
   "metadata": {},
   "outputs": [
    {
     "name": "stdout",
     "output_type": "stream",
     "text": [
      "88 10 10\n"
     ]
    }
   ],
   "source": [
    "typ_ = \"train\" # \"train\" or \"valid\" or \"test\"\n",
    "train_speakers = data_utils.load_text(f\"../training/filelists/vctk_speaker_{typ_}.txt\")\n",
    "\n",
    "typ_ = \"valid\" # \"train\" or \"valid\" or \"test\"\n",
    "valid_speakers = data_utils.load_text(f\"../training/filelists/vctk_speaker_{typ_}.txt\")\n",
    "\n",
    "typ_ = \"test\" # \"train\" or \"valid\" or \"test\"\n",
    "test_speakers = data_utils.load_text(f\"../training/filelists/vctk_speaker_{typ_}.txt\")\n",
    "print(len(train_speakers), len(valid_speakers), len(test_speakers))"
   ]
  },
  {
   "cell_type": "code",
   "execution_count": null,
   "id": "0cdf38cc-3da4-44a6-92b2-e44a8d8c580f",
   "metadata": {},
   "outputs": [],
   "source": [
    "# save\n",
    "data_root = \"/data1/vctk/modified/wav16_cleaned\"\n",
    "\n",
    "f = open(\"../training/filelists/vctk_train.txt\", 'w')\n",
    "data = []\n",
    "for speaker in train_speakers:\n",
    "    files = os.listdir(os.path.join(data_root, speaker))\n",
    "    for file in files:\n",
    "        data = os.path.join(data_root, speaker, file)\n",
    "        f.write(data + '\\n')\n",
    "f.close()\n",
    "\n",
    "f = open(\"../training/filelists/vctk_valid.txt\", 'w')\n",
    "for speaker in valid_speakers:\n",
    "    files = os.listdir(os.path.join(data_root, speaker))\n",
    "    for file in files:\n",
    "        data = os.path.join(data_root, speaker, file)\n",
    "        f.write(data + '\\n')\n",
    "f.close()\n",
    "\n",
    "f = open(\"../training/filelists/vctk_test.txt\", 'w')\n",
    "for speaker in test_speakers:\n",
    "    files = os.listdir(os.path.join(data_root, speaker))\n",
    "    for file in files:\n",
    "        data = os.path.join(data_root, speaker, file)\n",
    "        f.write(data + '\\n')\n",
    "f.close()"
   ]
  },
  {
   "cell_type": "code",
   "execution_count": null,
   "id": "55ad1e40-a46e-47d1-9ec9-f2fa4053699d",
   "metadata": {},
   "outputs": [],
   "source": []
  }
 ],
 "metadata": {
  "kernelspec": {
   "display_name": "Python 3 (ipykernel)",
   "language": "python",
   "name": "python3"
  },
  "language_info": {
   "codemirror_mode": {
    "name": "ipython",
    "version": 3
   },
   "file_extension": ".py",
   "mimetype": "text/x-python",
   "name": "python",
   "nbconvert_exporter": "python",
   "pygments_lexer": "ipython3",
   "version": "3.10.11"
  }
 },
 "nbformat": 4,
 "nbformat_minor": 5
}
