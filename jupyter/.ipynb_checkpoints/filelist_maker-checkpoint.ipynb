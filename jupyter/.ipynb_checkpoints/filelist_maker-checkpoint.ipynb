{
 "cells": [
  {
   "cell_type": "code",
   "execution_count": 1,
   "id": "9d1ef79e-a6e6-469a-b6ef-8cc76e38f561",
   "metadata": {},
   "outputs": [],
   "source": [
    "import os\n",
    "import time\n",
    "import wave\n",
    "import random\n",
    "import numpy as np\n",
    "from typing import Dict, Tuple\n",
    "\n",
    "import torch\n",
    "import torchaudio\n",
    "\n",
    "import json\n",
    "import sys\n",
    "sys.path.append('../training')\n",
    "from utils import data_utils, utils, audio_utils\n",
    "# hubert = torch.hub.load(\"bshall/hubert:main\", \"hubert_soft\")"
   ]
  },
  {
   "cell_type": "code",
   "execution_count": 69,
   "id": "c4512de1-9774-49d9-bb3b-e5050c591bd9",
   "metadata": {},
   "outputs": [],
   "source": [
    "# main_dir = '/home/jaejun/nansy/\n",
    "config_path = '../training/configs/f2v.json'\n",
    "with open(config_path, \"r\") as f:\n",
    "    data = f.read()\n",
    "config = json.loads(data)\n",
    "args = utils.HParams(**config)"
   ]
  },
  {
   "cell_type": "code",
   "execution_count": null,
   "id": "f4dc9581-0096-43f5-af18-6389a1d960a9",
   "metadata": {},
   "outputs": [],
   "source": []
  },
  {
   "cell_type": "markdown",
   "id": "56373f06-05cb-4de8-8455-606cc9b0fe4b",
   "metadata": {},
   "source": [
    "# Face2Voice"
   ]
  },
  {
   "cell_type": "markdown",
   "id": "f58efa40-ed2b-4918-ac65-47643c9bcb81",
   "metadata": {},
   "source": [
    "## Original Image version"
   ]
  },
  {
   "cell_type": "code",
   "execution_count": 35,
   "id": "4c5755c5-b2e8-424e-8fd2-869d5dfda170",
   "metadata": {},
   "outputs": [],
   "source": [
    "image_dir = \"/disk2/VGG_Face2/data/original\"\n",
    "train_valid_spkr_list_dir = '../training/filelists'\n",
    "train_valid_spkr_list_file = 'voxceleb_train_speakerlist.txt'\n",
    "test_spkr_list_file = 'voxceleb_test_speakerlist.txt'"
   ]
  },
  {
   "cell_type": "code",
   "execution_count": 36,
   "id": "be97be43-ca62-416b-ab38-433161e6298d",
   "metadata": {},
   "outputs": [],
   "source": [
    "train_valid_labels = np.loadtxt(os.path.join(train_valid_spkr_list_dir, 'voxceleb_train_labels.csv'), dtype=str)\n",
    "train_valid_gender_dict = {}\n",
    "for train_valid_label in train_valid_labels:\n",
    "    spkr = train_valid_label.split(',')[0]\n",
    "    gender = train_valid_label.split(',')[1]\n",
    "    train_valid_gender_dict[spkr] = gender\n",
    "\n",
    "test_labels = np.loadtxt(os.path.join(train_valid_spkr_list_dir, 'voxceleb_test_labels.csv'), dtype=str)\n",
    "test_gender_dict = {}\n",
    "for test_label in test_labels:\n",
    "    spkr = test_label.split(',')[0]\n",
    "    gender = test_label.split(',')[1]\n",
    "    test_gender_dict[spkr] = gender"
   ]
  },
  {
   "cell_type": "code",
   "execution_count": 37,
   "id": "76f27f30-e186-4d52-8537-de7db29ad9eb",
   "metadata": {},
   "outputs": [
    {
     "name": "stdout",
     "output_type": "stream",
     "text": [
      "# of Train & Valid speakers:5991\n",
      "Train spkr - male:3366, female:2131\n",
      "Valid spkr - male:60, female:34\n"
     ]
    }
   ],
   "source": [
    "# This is for Check gender distribution on train/valid set\n",
    "train_valid_spkrs = np.loadtxt(os.path.join(train_valid_spkr_list_dir, train_valid_spkr_list_file), dtype=str)\n",
    "print(f'# of Train & Valid speakers:{len(train_valid_spkrs)}')\n",
    "valid_speaker_num = 100\n",
    "np.random.seed(17)\n",
    "np.random.shuffle(train_valid_spkrs)\n",
    "train_spkrs = train_valid_spkrs[valid_speaker_num:]\n",
    "valid_spkrs = train_valid_spkrs[:valid_speaker_num]\n",
    "\n",
    "male_cnt, female_cnt = 0, 0\n",
    "for train_spkr in train_spkrs:\n",
    "    if train_spkr not in train_valid_gender_dict:\n",
    "        continue\n",
    "    if train_valid_gender_dict[train_spkr] == 'm':\n",
    "        male_cnt += 1\n",
    "    elif train_valid_gender_dict[train_spkr] == 'f':\n",
    "        female_cnt += 1\n",
    "print(f'Train spkr - male:{male_cnt}, female:{female_cnt}')\n",
    "\n",
    "male_cnt, female_cnt = 0, 0\n",
    "for valid_spkr in valid_spkrs:\n",
    "    if valid_spkr not in train_valid_gender_dict:\n",
    "        continue    \n",
    "    if train_valid_gender_dict[valid_spkr] == 'm':\n",
    "        male_cnt += 1\n",
    "    elif train_valid_gender_dict[valid_spkr] == 'f':\n",
    "        female_cnt += 1\n",
    "print(f'Valid spkr - male:{male_cnt}, female:{female_cnt}')"
   ]
  },
  {
   "cell_type": "code",
   "execution_count": 38,
   "id": "6fb9ac39-413c-42fd-8ad9-b7c8221c01f4",
   "metadata": {},
   "outputs": [
    {
     "name": "stdout",
     "output_type": "stream",
     "text": [
      "Train files:2211115, Valid files:38151\n"
     ]
    }
   ],
   "source": [
    "train_image_paths = []\n",
    "for spkr in train_spkrs:\n",
    "    files = os.listdir(os.path.join(image_dir, spkr))\n",
    "    for file in files:\n",
    "        path = os.path.join(image_dir, spkr, file)\n",
    "        train_image_paths.append(path)\n",
    "\n",
    "valid_image_paths = []\n",
    "for spkr in valid_spkrs:\n",
    "    files = os.listdir(os.path.join(image_dir, spkr))\n",
    "    for file in files:\n",
    "        path = os.path.join(image_dir, spkr, file)\n",
    "        valid_image_paths.append(path)\n",
    "\n",
    "print(f'Train files:{len(train_image_paths)}, Valid files:{len(valid_image_paths)}')"
   ]
  },
  {
   "cell_type": "code",
   "execution_count": 39,
   "id": "232e8980-d42c-4b12-9560-4d9031edaba8",
   "metadata": {},
   "outputs": [
    {
     "name": "stdout",
     "output_type": "stream",
     "text": [
      "# of Test speakers:118\n",
      "Test spkr - male:77, female:39\n"
     ]
    }
   ],
   "source": [
    "test_spkrs = np.loadtxt(os.path.join(train_valid_spkr_list_dir, test_spkr_list_file), dtype=str)\n",
    "print(f'# of Test speakers:{len(test_spkrs)}')\n",
    "\n",
    "male_cnt, female_cnt = 0, 0\n",
    "for test_spkr in test_spkrs:\n",
    "    if test_spkr not in test_gender_dict:\n",
    "        continue    \n",
    "    if test_gender_dict[test_spkr] == 'm':\n",
    "        male_cnt += 1\n",
    "    elif test_gender_dict[test_spkr] == 'f':\n",
    "        female_cnt += 1\n",
    "print(f'Test spkr - male:{male_cnt}, female:{female_cnt}')"
   ]
  },
  {
   "cell_type": "code",
   "execution_count": 40,
   "id": "7d8c385f-cce2-4e29-92fa-6ae51459d5a9",
   "metadata": {},
   "outputs": [
    {
     "name": "stdout",
     "output_type": "stream",
     "text": [
      "Test files:53652\n"
     ]
    }
   ],
   "source": [
    "test_image_paths = []\n",
    "for spkr in test_spkrs:\n",
    "    files = os.listdir(os.path.join(image_dir, spkr))\n",
    "    for file in files:\n",
    "        path = os.path.join(image_dir, spkr, file)\n",
    "        test_image_paths.append(path)\n",
    "\n",
    "print(f'Test files:{len(test_image_paths)}')"
   ]
  },
  {
   "cell_type": "markdown",
   "id": "a8a2d45e-dd88-46b8-869d-7a442770a1d9",
   "metadata": {},
   "source": [
    "### File Save"
   ]
  },
  {
   "cell_type": "code",
   "execution_count": 41,
   "id": "b2e6b626-ad5e-42c1-8280-b8a0a9cb3577",
   "metadata": {},
   "outputs": [],
   "source": [
    "f = open(\"../training/filelists/VGG_Face_train.txt\",\"w\")\n",
    "for i in range(len(train_image_paths)):\n",
    "    data = train_image_paths[i] + '\\n'\n",
    "    f.write(data)\n",
    "f.close()"
   ]
  },
  {
   "cell_type": "code",
   "execution_count": 42,
   "id": "2d2b15db-f496-4d2b-a2ea-5abc7c77173c",
   "metadata": {},
   "outputs": [],
   "source": [
    "f = open(\"../training/filelists/VGG_Face_valid.txt\",\"w\")\n",
    "for i in range(len(valid_image_paths)):\n",
    "    data = valid_image_paths[i] + '\\n'\n",
    "    f.write(data)\n",
    "f.close()"
   ]
  },
  {
   "cell_type": "code",
   "execution_count": 43,
   "id": "30dc7e5c-d1dd-4d23-bb62-617690baf61e",
   "metadata": {},
   "outputs": [],
   "source": [
    "f = open(\"../training/filelists/VGG_Face_test.txt\",\"w\")\n",
    "for i in range(len(test_image_paths)):\n",
    "    data = test_image_paths[i] + '\\n'\n",
    "    f.write(data)\n",
    "f.close()"
   ]
  },
  {
   "cell_type": "code",
   "execution_count": null,
   "id": "d04ae156-095f-4bce-9b3a-6d8d1050d50a",
   "metadata": {},
   "outputs": [],
   "source": []
  },
  {
   "cell_type": "markdown",
   "id": "616ad56a-ba2f-4fe6-a5a6-adb875f2f848",
   "metadata": {},
   "source": [
    "## MT-CNN Emb version"
   ]
  },
  {
   "cell_type": "markdown",
   "id": "53204e2f-8ebe-46bf-a0e4-53699453c3dd",
   "metadata": {},
   "source": [
    "### Audio"
   ]
  },
  {
   "cell_type": "code",
   "execution_count": 3,
   "id": "e88cde6f-a254-4bff-8c86-023ccd108cd2",
   "metadata": {},
   "outputs": [],
   "source": [
    "audio_dir = \"/disk2/VoxCeleb2/VoxCeleb2/dev\""
   ]
  },
  {
   "cell_type": "markdown",
   "id": "a945cee1-42f8-43e9-8730-f94876e5b57d",
   "metadata": {},
   "source": [
    "### Image"
   ]
  },
  {
   "cell_type": "code",
   "execution_count": 5,
   "id": "c0c724df-1da7-49b4-afae-22b55c3a67fa",
   "metadata": {},
   "outputs": [],
   "source": [
    "image_dir = \"/disk2/VGG_Face2/data/modified\"\n",
    "train_valid_spkr_list_dir = '../training/filelists'\n",
    "train_valid_spkr_list_file = 'voxceleb_train_speakerlist.txt'\n",
    "test_spkr_list_file = 'voxceleb_test_speakerlist.txt'"
   ]
  },
  {
   "cell_type": "code",
   "execution_count": 6,
   "id": "ff9812a3-9879-402f-a957-52e686741429",
   "metadata": {},
   "outputs": [],
   "source": [
    "train_valid_labels = np.loadtxt(os.path.join(train_valid_spkr_list_dir, 'voxceleb_train_labels.csv'), dtype=str)\n",
    "train_valid_gender_dict = {}\n",
    "for train_valid_label in train_valid_labels:\n",
    "    spkr = train_valid_label.split(',')[0]\n",
    "    gender = train_valid_label.split(',')[1]\n",
    "    train_valid_gender_dict[spkr] = gender\n",
    "\n",
    "test_labels = np.loadtxt(os.path.join(train_valid_spkr_list_dir, 'voxceleb_test_labels.csv'), dtype=str)\n",
    "test_gender_dict = {}\n",
    "for test_label in test_labels:\n",
    "    spkr = test_label.split(',')[0]\n",
    "    gender = test_label.split(',')[1]\n",
    "    test_gender_dict[spkr] = gender"
   ]
  },
  {
   "cell_type": "markdown",
   "id": "af0e5ea3-2ebc-4cb5-9471-f7e08de6be90",
   "metadata": {},
   "source": [
    "Train/Valid"
   ]
  },
  {
   "cell_type": "code",
   "execution_count": 25,
   "id": "23740902-cb6c-4607-b4b0-fb03c081c946",
   "metadata": {},
   "outputs": [
    {
     "name": "stdout",
     "output_type": "stream",
     "text": [
      "# of Train & Valid speakers:5991\n",
      "Train spkr - male:3366, female:2131\n",
      "Valid spkr - male:60, female:34\n"
     ]
    }
   ],
   "source": [
    "# This is for Check gender distribution on train/valid set\n",
    "train_valid_spkrs = np.loadtxt(os.path.join(train_valid_spkr_list_dir, train_valid_spkr_list_file), dtype=str)\n",
    "print(f'# of Train & Valid speakers:{len(train_valid_spkrs)}')\n",
    "valid_speaker_num = 100\n",
    "np.random.seed(17)\n",
    "np.random.shuffle(train_valid_spkrs)\n",
    "train_spkrs = train_valid_spkrs[valid_speaker_num:]\n",
    "valid_spkrs = train_valid_spkrs[:valid_speaker_num]\n",
    "\n",
    "male_cnt, female_cnt = 0, 0\n",
    "for train_spkr in train_spkrs:\n",
    "    if train_spkr not in train_valid_gender_dict:\n",
    "        continue\n",
    "    if train_valid_gender_dict[train_spkr] == 'm':\n",
    "        male_cnt += 1\n",
    "    elif train_valid_gender_dict[train_spkr] == 'f':\n",
    "        female_cnt += 1\n",
    "print(f'Train spkr - male:{male_cnt}, female:{female_cnt}')\n",
    "\n",
    "male_cnt, female_cnt = 0, 0\n",
    "for valid_spkr in valid_spkrs:\n",
    "    if valid_spkr not in train_valid_gender_dict:\n",
    "        continue    \n",
    "    if train_valid_gender_dict[valid_spkr] == 'm':\n",
    "        male_cnt += 1\n",
    "    elif train_valid_gender_dict[valid_spkr] == 'f':\n",
    "        female_cnt += 1\n",
    "print(f'Valid spkr - male:{male_cnt}, female:{female_cnt}')"
   ]
  },
  {
   "cell_type": "code",
   "execution_count": 26,
   "id": "23ccaee7-e55f-4b54-9e64-44f1fbdd6a2e",
   "metadata": {},
   "outputs": [
    {
     "name": "stdout",
     "output_type": "stream",
     "text": [
      "Train files:2204588, Valid files:38027\n"
     ]
    }
   ],
   "source": [
    "min_train_images = 999\n",
    "train_image_paths = []\n",
    "for spkr in train_spkrs:\n",
    "    files = os.listdir(os.path.join(image_dir, spkr))\n",
    "    for file in files:\n",
    "        path = os.path.join(image_dir, spkr, file)\n",
    "        train_image_paths.append(path)\n",
    "\n",
    "valid_image_paths = []\n",
    "for spkr in valid_spkrs:\n",
    "    files = os.listdir(os.path.join(image_dir, spkr))\n",
    "    for file in files:\n",
    "        path = os.path.join(image_dir, spkr, file)\n",
    "        valid_image_paths.append(path)\n",
    "\n",
    "print(f'Train files:{len(train_image_paths)}, Valid files:{len(valid_image_paths)}')"
   ]
  },
  {
   "cell_type": "markdown",
   "id": "c6a1ab3e-ee8a-4842-be82-21bacc960573",
   "metadata": {},
   "source": [
    "Test"
   ]
  },
  {
   "cell_type": "code",
   "execution_count": 27,
   "id": "3216039b-ee10-40ac-93ad-4488db6fc842",
   "metadata": {},
   "outputs": [
    {
     "name": "stdout",
     "output_type": "stream",
     "text": [
      "# of Test speakers:118\n",
      "Test spkr - male:77, female:39\n"
     ]
    }
   ],
   "source": [
    "test_spkrs = np.loadtxt(os.path.join(train_valid_spkr_list_dir, test_spkr_list_file), dtype=str)\n",
    "print(f'# of Test speakers:{len(test_spkrs)}')\n",
    "\n",
    "male_cnt, female_cnt = 0, 0\n",
    "for test_spkr in test_spkrs:\n",
    "    if test_spkr not in test_gender_dict:\n",
    "        continue    \n",
    "    if test_gender_dict[test_spkr] == 'm':\n",
    "        male_cnt += 1\n",
    "    elif test_gender_dict[test_spkr] == 'f':\n",
    "        female_cnt += 1\n",
    "print(f'Test spkr - male:{male_cnt}, female:{female_cnt}')"
   ]
  },
  {
   "cell_type": "code",
   "execution_count": 28,
   "id": "e87ac108-cf62-496d-a886-922c4382ae18",
   "metadata": {},
   "outputs": [
    {
     "name": "stdout",
     "output_type": "stream",
     "text": [
      "Test files:53251\n"
     ]
    }
   ],
   "source": [
    "test_image_paths = []\n",
    "for spkr in test_spkrs:\n",
    "    files = os.listdir(os.path.join(image_dir, spkr))\n",
    "    for file in files:\n",
    "        path = os.path.join(image_dir, spkr, file)\n",
    "        test_image_paths.append(path)\n",
    "\n",
    "print(f'Test files:{len(test_image_paths)}')"
   ]
  },
  {
   "cell_type": "markdown",
   "id": "0c0e70c8-a44f-4a65-96c5-274980f57d1b",
   "metadata": {},
   "source": [
    "### File save"
   ]
  },
  {
   "cell_type": "code",
   "execution_count": 29,
   "id": "3d5962d3-d52f-4244-b774-bdc25889a9a5",
   "metadata": {},
   "outputs": [],
   "source": [
    "f = open(\"../training/filelists/VGG_Face_Emb_train.txt\",\"w\")\n",
    "for i in range(len(train_image_paths)):\n",
    "    data = train_image_paths[i] + '\\n'\n",
    "    f.write(data)\n",
    "f.close()"
   ]
  },
  {
   "cell_type": "code",
   "execution_count": 30,
   "id": "a8863ade-ed2e-477f-a4dc-e8e16816b919",
   "metadata": {},
   "outputs": [],
   "source": [
    "f = open(\"../training/filelists/VGG_Face_Emb_valid.txt\",\"w\")\n",
    "for i in range(len(valid_image_paths)):\n",
    "    data = valid_image_paths[i] + '\\n'\n",
    "    f.write(data)\n",
    "f.close()"
   ]
  },
  {
   "cell_type": "code",
   "execution_count": 31,
   "id": "bbe8a2e6-bcb6-4ecb-af7a-6e9dfef71abf",
   "metadata": {},
   "outputs": [],
   "source": [
    "f = open(\"../training/filelists/VGG_Face_Emb_test.txt\",\"w\")\n",
    "for i in range(len(test_image_paths)):\n",
    "    data = test_image_paths[i] + '\\n'\n",
    "    f.write(data)\n",
    "f.close()"
   ]
  },
  {
   "cell_type": "code",
   "execution_count": null,
   "id": "48bdf486-09a4-4658-a576-cacd472e267c",
   "metadata": {},
   "outputs": [],
   "source": []
  },
  {
   "cell_type": "code",
   "execution_count": null,
   "id": "328a2603-8411-47ca-a6cd-0e2654298096",
   "metadata": {},
   "outputs": [],
   "source": []
  },
  {
   "cell_type": "markdown",
   "id": "429e2752-dd3c-4887-b92f-5416f8a617e4",
   "metadata": {},
   "source": [
    "### Temp"
   ]
  },
  {
   "cell_type": "code",
   "execution_count": 71,
   "id": "33a2fc35-4f07-4859-9481-c5eedd48a401",
   "metadata": {},
   "outputs": [
    {
     "name": "stdout",
     "output_type": "stream",
     "text": [
      "1128246\n",
      "Test spkr #0 of 118 doesn't match\n",
      "Train-valid spkr #0 of 5991 doesn't match\n"
     ]
    }
   ],
   "source": [
    "cnt_aud = 0\n",
    "aud_spkrs = os.listdir(args.data.aud_datadir)\n",
    "for aud_spkr in aud_spkrs:\n",
    "    cnt_aud += len(os.listdir(os.path.join(args.data.aud_datadir, aud_spkr)))\n",
    "print(cnt_aud)\n",
    "\n",
    "cnt = 0\n",
    "for test_spkr in test_spkrs:\n",
    "    if test_spkr not in aud_spkrs:\n",
    "        cnt += 1\n",
    "        # print(test_spkr)\n",
    "print(f\"Test spkr #{cnt} of {len(test_spkrs)} doesn't match\")\n",
    "\n",
    "cnt = 0\n",
    "for train_valid_spkr in train_valid_spkrs:\n",
    "    if train_valid_spkr not in aud_spkrs:\n",
    "        cnt += 1\n",
    "        # print(test_spkr)\n",
    "print(f\"Train-valid spkr #{cnt} of {len(train_valid_spkrs)} doesn't match\")\n",
    "\n"
   ]
  },
  {
   "cell_type": "code",
   "execution_count": null,
   "id": "30ca75d3-1fc9-4f8e-8bf2-52430a90dc02",
   "metadata": {},
   "outputs": [],
   "source": []
  },
  {
   "cell_type": "code",
   "execution_count": null,
   "id": "a612afac-b331-4ecf-b774-99626d5c32b8",
   "metadata": {},
   "outputs": [],
   "source": []
  },
  {
   "cell_type": "code",
   "execution_count": null,
   "id": "7caaa65e-3b38-42d7-abdd-952ebceb2f4d",
   "metadata": {},
   "outputs": [],
   "source": []
  },
  {
   "cell_type": "code",
   "execution_count": null,
   "id": "39710085-972a-46bd-ab84-b4e7e87140b2",
   "metadata": {},
   "outputs": [],
   "source": []
  }
 ],
 "metadata": {
  "kernelspec": {
   "display_name": "Python 3 (ipykernel)",
   "language": "python",
   "name": "python3"
  },
  "language_info": {
   "codemirror_mode": {
    "name": "ipython",
    "version": 3
   },
   "file_extension": ".py",
   "mimetype": "text/x-python",
   "name": "python",
   "nbconvert_exporter": "python",
   "pygments_lexer": "ipython3",
   "version": "3.10.11"
  }
 },
 "nbformat": 4,
 "nbformat_minor": 5
}
